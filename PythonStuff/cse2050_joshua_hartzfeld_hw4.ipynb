{
 "cells": [
  {
   "cell_type": "markdown",
   "id": "b52bb53d",
   "metadata": {},
   "source": [
    "# CSE:2050 Homework 4"
   ]
  },
  {
   "cell_type": "markdown",
   "id": "fa1d1efe",
   "metadata": {},
   "source": [
    "### Name: Joshua Hartzfeld | Topic: Python Programming with Files, exceptions and regular expressions, and citionaries and sets"
   ]
  },
  {
   "cell_type": "markdown",
   "id": "0b3fdf2d",
   "metadata": {},
   "source": [
    "#### Question 1\n"
   ]
  },
  {
   "cell_type": "code",
   "execution_count": 138,
   "id": "3c4a66f7",
   "metadata": {},
   "outputs": [
    {
     "name": "stdout",
     "output_type": "stream",
     "text": [
      "Date                          Client IP\n",
      "12/04/2005 05:15:09 AM        222.166.160.184\n",
      "12/04/2005 07:45:45 AM        63.13.186.196\n",
      "12/04/2005 08:54:17 AM        147.31.138.75\n",
      "12/04/2005 09:35:12 AM        207.203.80.15\n",
      "12/04/2005 10:53:30 AM        218.76.139.20\n",
      "12/04/2005 11:11:07 AM        24.147.151.74\n",
      "12/04/2005 11:33:18 AM        211.141.93.88\n",
      "12/04/2005 11:42:43 AM        216.127.124.16\n",
      "12/04/2005 12:33:13 PM        208.51.151.210\n",
      "12/04/2005 01:32:32 PM        65.68.235.27\n",
      "12/04/2005 02:29:00 PM        4.245.93.87\n",
      "12/04/2005 03:18:36 PM        67.154.58.130\n",
      "12/04/2005 03:59:01 PM        24.83.37.136\n",
      "12/04/2005 04:24:05 PM        58.225.62.140\n",
      "12/04/2005 05:34:57 PM        61.138.216.82\n",
      "12/04/2005 05:53:43 PM        218.39.132.175\n",
      "12/04/2005 06:24:22 PM        125.30.38.52\n",
      "12/04/2005 07:36:05 PM        61.37.222.240\n",
      "12/05/2005 01:04:31 AM        218.62.18.218\n",
      "12/05/2005 01:30:32 AM        211.62.201.48\n",
      "12/05/2005 03:23:24 AM        218.207.61.7\n",
      "12/05/2005 03:44:50 AM        168.20.198.21\n",
      "12/05/2005 06:36:59 AM        221.232.178.24\n",
      "12/05/2005 09:09:48 AM        207.12.15.211\n",
      "12/05/2005 10:26:39 AM        141.153.150.164\n",
      "12/05/2005 10:28:44 AM        198.232.168.9\n",
      "12/05/2005 10:48:48 AM        67.166.248.235\n",
      "12/05/2005 02:11:43 PM        141.154.18.244\n",
      "12/05/2005 04:45:04 PM        216.216.185.130\n",
      "12/05/2005 05:31:39 PM        218.75.106.250\n",
      "12/05/2005 07:00:56 PM        68.228.3.15\n",
      "12/05/2005 07:14:09 PM        61.220.139.68\n"
     ]
    }
   ],
   "source": [
    "import re\n",
    "import dateparser\n",
    "log_file = open(\"Apache2k.log\", 'r') # put into same folder as this proj\n",
    "\n",
    "print(f'{\"Date\":<30}'f'{\"Client IP\"}')\n",
    "line = log_file.readline()\n",
    "while line != \"\":\n",
    "    match = re.search(r\"\\B[w]\", line)\n",
    "    try:\n",
    "        log_line = re.findall('\\[(.*?)\\]',match.string)\n",
    "        date = f'{dateparser.parse(log_line[0]):%m/%d/%Y %I:%M:%S %p}'\n",
    "        print(f'{date:<29}' f'{log_line[2].strip(\"client\")}')\n",
    "    except:\n",
    "        pass \n",
    "    line = log_file.readline()\n",
    "log_file.close()"
   ]
  },
  {
   "cell_type": "markdown",
   "id": "6e8a201f",
   "metadata": {},
   "source": [
    "#### Question 2"
   ]
  },
  {
   "cell_type": "markdown",
   "id": "87ba4419",
   "metadata": {},
   "source": [
    "* This is the working code for Question 2. Im not sure if i was allowed but Counter is from py standard lib and it kinda really made the counting process 1 line so im dying on this hill im keeping it\n",
    "* Also output is colorized to satisfy bonus 1"
   ]
  },
  {
   "cell_type": "code",
   "execution_count": 179,
   "id": "de9fe4fb",
   "metadata": {
    "scrolled": true
   },
   "outputs": [
    {
     "name": "stdout",
     "output_type": "stream",
     "text": [
      "                             Top 10 Countries with the Highest # Movies                             \n",
      "----------------------------------------------------------------------------------------------------\n",
      "USA                 \u001b[31m██████████████████████████████████\u001b[0m (34.33k)\n",
      "France              \u001b[32m████████\u001b[0m (8.31k)\n",
      "UK                  \u001b[33m███████\u001b[0m (7.49k)\n",
      "India               \u001b[34m██████\u001b[0m (6.37k)\n",
      "Italy               \u001b[35m█████\u001b[0m (5.06k)\n",
      "Germany             \u001b[36m███\u001b[0m (3.72k)\n",
      "Japan               \u001b[37m███\u001b[0m (3.70k)\n",
      "Canada              \u001b[92m███\u001b[0m (3.62k)\n",
      "Spain               \u001b[95m██\u001b[0m (2.73k)\n",
      "Hong Kong           \u001b[96m█\u001b[0m (1.88k)\n"
     ]
    }
   ],
   "source": [
    "colors = ['\\033[31m', '\\033[32m', '\\033[33m', '\\033[34m', '\\033[35m', '\\033[36m', '\\033[37m', '\\033[92m', '\\033[95m', '\\033[96m', '\\033[30m']\n",
    "from csv import reader\n",
    "from collections import Counter\n",
    "infile = open(\"IMDb_movies.csv\", encoding=\"utf8\") # put into same folder as this proj\n",
    "csv_reader = reader(infile)\n",
    "data = []\n",
    "for row in csv_reader:\n",
    "    country = row[7]\n",
    "    if ',' in country:\n",
    "        country = country.split(',')\n",
    "        for each in country:\n",
    "            data.append(each.strip())\n",
    "    else:\n",
    "        data.append(country)\n",
    "        \n",
    "counted_list = Counter(data).most_common(10)\n",
    "print(f\"{'Top 10 Countries with the Highest # Movies':^100}\")\n",
    "print(f\"{'-' * 100}\")\n",
    "i = 0\n",
    "reset = '\\033[0m'\n",
    "for result in counted_list:\n",
    "    country = result[0]\n",
    "    amount = result[1]\n",
    "    bar = amount // 1000\n",
    "    scaled_amount = amount / 1000\n",
    "    print(f\"{country:20}{colors[i]}{'█'* bar}{reset} ({scaled_amount:.2f}k)\")\n",
    "    i += 1"
   ]
  },
  {
   "cell_type": "markdown",
   "id": "641f6a8b",
   "metadata": {},
   "source": [
    "#### Question 3"
   ]
  },
  {
   "cell_type": "markdown",
   "id": "3bf5a9ce",
   "metadata": {},
   "source": [
    "* I tried to figure out a solution on my own but I always had code too similar too the solution code so im not going to attempt so I can get credit for the rest of the assignment"
   ]
  },
  {
   "cell_type": "code",
   "execution_count": 171,
   "id": "93c3d986",
   "metadata": {},
   "outputs": [],
   "source": [
    "ENGLISH_STOP_WORDS = [\n",
    "    \"a\", \"about\", \"above\", \"across\", \"after\", \"afterwards\", \"again\", \"against\",\n",
    "    \"all\", \"almost\", \"alone\", \"along\", \"already\", \"also\", \"although\", \"always\",\n",
    "    \"am\", \"among\", \"amongst\", \"amoungst\", \"amount\", \"an\", \"and\", \"another\",\n",
    "    \"any\", \"anyhow\", \"anyone\", \"anything\", \"anyway\", \"anywhere\", \"are\",\n",
    "    \"around\", \"as\", \"at\", \"back\", \"be\", \"became\", \"because\", \"become\",\n",
    "    \"becomes\", \"becoming\", \"been\", \"before\", \"beforehand\", \"behind\", \"being\",\n",
    "    \"below\", \"beside\", \"besides\", \"between\", \"beyond\", \"bill\", \"both\",\n",
    "    \"bottom\", \"but\", \"by\", \"call\", \"can\", \"cannot\", \"cant\", \"co\", \"con\",\n",
    "    \"could\", \"couldnt\", \"cry\", \"de\", \"describe\", \"detail\", \"do\", \"done\",\n",
    "    \"down\", \"due\", \"during\", \"each\", \"eg\", \"eight\", \"either\", \"eleven\", \"else\",\n",
    "    \"elsewhere\", \"empty\", \"enough\", \"etc\", \"even\", \"ever\", \"every\", \"everyone\",\n",
    "    \"everything\", \"everywhere\", \"except\", \"few\", \"fifteen\", \"fifty\", \"fill\",\n",
    "    \"find\", \"fire\", \"first\", \"five\", \"for\", \"former\", \"formerly\", \"forty\",\n",
    "    \"found\", \"four\", \"from\", \"front\", \"full\", \"further\", \"get\", \"give\", \"go\",\n",
    "    \"had\", \"has\", \"hasnt\", \"have\", \"he\", \"hence\", \"her\", \"here\", \"hereafter\",\n",
    "    \"hereby\", \"herein\", \"hereupon\", \"hers\", \"herself\", \"him\", \"himself\", \"his\",\n",
    "    \"how\", \"however\", \"hundred\", \"i\", \"ie\", \"if\", \"in\", \"inc\", \"indeed\",\n",
    "    \"interest\", \"into\", \"is\", \"it\", \"its\", \"itself\", \"keep\", \"last\", \"latter\",\n",
    "    \"latterly\", \"least\", \"less\", \"ltd\", \"made\", \"many\", \"may\", \"me\",\n",
    "    \"meanwhile\", \"might\", \"mill\", \"mine\", \"more\", \"moreover\", \"most\", \"mostly\",\n",
    "    \"move\", \"much\", \"must\", \"my\", \"myself\", \"name\", \"namely\", \"neither\",\n",
    "    \"never\", \"nevertheless\", \"next\", \"nine\", \"no\", \"nobody\", \"none\", \"noone\",\n",
    "    \"nor\", \"not\", \"nothing\", \"now\", \"nowhere\", \"of\", \"off\", \"often\", \"on\",\n",
    "    \"once\", \"one\", \"only\", \"onto\", \"or\", \"other\", \"others\", \"otherwise\", \"our\",\n",
    "    \"ours\", \"ourselves\", \"out\", \"over\", \"own\", \"part\", \"per\", \"perhaps\",\n",
    "    \"please\", \"put\", \"rather\", \"re\", \"same\", \"see\", \"seem\", \"seemed\",\n",
    "    \"seeming\", \"seems\", \"serious\", \"several\", \"she\", \"should\", \"show\", \"side\",\n",
    "    \"since\", \"sincere\", \"six\", \"sixty\", \"so\", \"some\", \"somehow\", \"someone\",\n",
    "    \"something\", \"sometime\", \"sometimes\", \"somewhere\", \"still\", \"such\",\n",
    "    \"system\", \"take\", \"ten\", \"than\", \"that\", \"the\", \"their\", \"them\",\n",
    "    \"themselves\", \"then\", \"thence\", \"there\", \"thereafter\", \"thereby\",\n",
    "    \"therefore\", \"therein\", \"thereupon\", \"these\", \"they\", \"thick\", \"thin\",\n",
    "    \"third\", \"this\", \"those\", \"though\", \"three\", \"through\", \"throughout\",\n",
    "    \"thru\", \"thus\", \"to\", \"together\", \"too\", \"top\", \"toward\", \"towards\",\n",
    "    \"twelve\", \"twenty\", \"two\", \"un\", \"under\", \"until\", \"up\", \"upon\", \"us\",\n",
    "    \"very\", \"via\", \"was\", \"we\", \"well\", \"were\", \"what\", \"whatever\", \"when\",\n",
    "    \"whence\", \"whenever\", \"where\", \"whereafter\", \"whereas\", \"whereby\",\n",
    "    \"wherein\", \"whereupon\", \"wherever\", \"whether\", \"which\", \"while\", \"whither\",\n",
    "    \"who\", \"whoever\", \"whole\", \"whom\", \"whose\", \"why\", \"will\", \"with\",\n",
    "    \"within\", \"without\", \"would\", \"yet\", \"you\", \"your\", \"yours\", \"yourself\",\n",
    "    \"yourselves\"\n",
    "]"
   ]
  },
  {
   "cell_type": "markdown",
   "id": "424a30be",
   "metadata": {},
   "source": [
    "#### Bonus 2"
   ]
  },
  {
   "cell_type": "code",
   "execution_count": 180,
   "id": "9066058b",
   "metadata": {},
   "outputs": [
    {
     "name": "stdout",
     "output_type": "stream",
     "text": [
      "\u001b[30;41m FLORIDA'S\n",
      "   STEM   \n",
      "UNIVERSITY\n"
     ]
    }
   ],
   "source": [
    "data =[\n",
    "['!','F','L','O','R','/','D','A','\\'','_'],\n",
    "['!','!','!','_','T','*','M','!','!','!'],\n",
    "['U','N','/','V','*','R','_','/','T','Y']\n",
    "]\n",
    "\n",
    "replacements = [('*', 'E'), ('/', 'I'), ('!', ' '), ('_', 'S')]\n",
    "\n",
    "\n",
    "for i in range(len(data)):\n",
    "    for j in range(len(data[i])):\n",
    "        for each in replacements:\n",
    "            if data[i][j] == each[0]:\n",
    "                data[i][j] = each[1]\n",
    "pattern = '\\033[30;41m'            \n",
    "output = '\\n'.join(map(''.join, data))\n",
    "print(f'{pattern}{output:^10}')"
   ]
  },
  {
   "cell_type": "code",
   "execution_count": null,
   "id": "3ccc8895",
   "metadata": {},
   "outputs": [],
   "source": []
  }
 ],
 "metadata": {
  "kernelspec": {
   "display_name": "Python 3 (ipykernel)",
   "language": "python",
   "name": "python3"
  },
  "language_info": {
   "codemirror_mode": {
    "name": "ipython",
    "version": 3
   },
   "file_extension": ".py",
   "mimetype": "text/x-python",
   "name": "python",
   "nbconvert_exporter": "python",
   "pygments_lexer": "ipython3",
   "version": "3.9.12"
  }
 },
 "nbformat": 4,
 "nbformat_minor": 5
}
