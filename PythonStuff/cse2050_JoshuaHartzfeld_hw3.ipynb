{
 "cells": [
  {
   "cell_type": "markdown",
   "id": "0e352374",
   "metadata": {},
   "source": [
    "# CSE2050 Homework 3\n",
    "**Name: Joshua Hartzfeld**  | Topic: Web Scraping"
   ]
  },
  {
   "cell_type": "markdown",
   "id": "c8c5804c",
   "metadata": {},
   "source": [
    "#### Took me longer than i wanted but it is done ( to my extent of testing)\n",
    "* First cell is imports plus the URL defined globally because its not going to change anytime soon\n"
   ]
  },
  {
   "cell_type": "code",
   "execution_count": 4,
   "id": "6a2d9472",
   "metadata": {},
   "outputs": [],
   "source": [
    "import bs4\n",
    "import urllib\n",
    "import dateparser\n",
    "\n",
    "URL = \"https://www.fit.edu/clemente-center/fitness-schedule/\"\n"
   ]
  },
  {
   "cell_type": "markdown",
   "id": "d4a70d3e",
   "metadata": {},
   "source": [
    "* This cell is the function is_open() this function is in charge of parsing dates from the day_table that is scraped from the website in get_schedule_table() if it does find someting it prints what its found, and returns otherwise it prints that the center is not open and lists the times\n"
   ]
  },
  {
   "cell_type": "code",
   "execution_count": 5,
   "id": "7b5f867a",
   "metadata": {},
   "outputs": [],
   "source": [
    "def is_open(input_date, day_table, open_hours):\n",
    "    for i in range(1, len(day_table)):\n",
    "        time = day_table[i][0]\n",
    "        times = time.split('-')\n",
    "        lower_time = dateparser.parse(times[0],\n",
    "                                      settings={'RELATIVE_BASE': input_date})\n",
    "        upper_time = dateparser.parse(times[1],\n",
    "                                      settings={'RELATIVE_BASE': input_date})\n",
    "        if lower_time <= input_date <= upper_time:\n",
    "            print(f'{day_table[i][1]}' + \" is held in \" + f'{day_table[i][3]}' +\n",
    "                  \" from \" + f'{lower_time:%m/%d/%Y %I:%M%p}' + \" - \" +\n",
    "                  f'{upper_time:%m/%d/%Y %I:%M%p}')\n",
    "            return 0\n",
    "    print(\"Clemente Center is not open on \" + f'{input_date:%m/%d/%Y %I:%M%p}.' +\n",
    "          \"The hours are\")\n",
    "    print(\n",
    "        f'{open_hours[0]}-{open_hours[1]} {open_hours[2]}-{open_hours[3]}\\n{open_hours[4]} {open_hours[5]}-{open_hours[6]}\\n{open_hours[7]} {open_hours[8]}-{open_hours[9]}'\n",
    "    )\n",
    "    return 0\n",
    "\n"
   ]
  },
  {
   "cell_type": "markdown",
   "id": "ba82eff6",
   "metadata": {},
   "source": [
    "* This method like told above scrapes a specific table from the site using the date keyword that is above it i.e \"Monday\" \"Tuesday\" etc. This can be done because of the find_next() functionality of dateparser. After the table is grabbed a funky litte for loop scrapes together a 2D list of non empty values from the table"
   ]
  },
  {
   "cell_type": "code",
   "execution_count": null,
   "id": "e4df4a00",
   "metadata": {},
   "outputs": [],
   "source": [
    "def get_schedule_table(date):\n",
    "    table_data = []\n",
    "    response = urllib.request.urlopen(URL)\n",
    "    doc = bs4.BeautifulSoup(response, features=\"html5lib\")\n",
    "    date_location = doc.find(id=\"page-content\").find(\n",
    "        class_=\"twelve wide computer column\").find(string=date)\n",
    "    table = date_location.find_next(\"table\")\n",
    "\n",
    "    rows = table.find_all(\"tr\")\n",
    "    for row in rows:\n",
    "        col = row.find_all('td')\n",
    "        col = [ele.text.strip() for ele in col]\n",
    "        table_data.append([ele for ele in col if ele])\n",
    "\n",
    "    return table_data\n",
    "\n"
   ]
  },
  {
   "cell_type": "markdown",
   "id": "d8ef7722",
   "metadata": {},
   "source": [
    "* The method get_opening_hours() scrapes the side column to get the centers opening times. This is used when the default print case is met"
   ]
  },
  {
   "cell_type": "code",
   "execution_count": 6,
   "id": "122e815b",
   "metadata": {},
   "outputs": [],
   "source": [
    "def get_opening_hours():\n",
    "    response = urllib.request.urlopen(URL)\n",
    "    doc = bs4.BeautifulSoup(response)\n",
    "    sidebar_content = doc.find(id='page-content').find(\n",
    "        class_='four wide computer column sidebar')\n",
    "    i = 1\n",
    "    for item in sidebar_content.find_all(\"p\"):\n",
    "        if (i == 6):\n",
    "            hours = (item.get_text())\n",
    "        i += 1\n",
    "\n",
    "    hours = hours.strip(\"Fall 2022\\xa0\")\n",
    "    hours = hours.replace(':', '')\n",
    "    hours = hours.replace('pm', ' ')\n",
    "    hours = hours.replace('-', ' ')\n",
    "    hours = hours.split()\n",
    "    for i in range(3, len(hours), 3):\n",
    "        hours[i] += \"pm\"\n",
    "        if i == 9:\n",
    "            hours[i - 1] += \"pm\"\n",
    "    return hours\n"
   ]
  },
  {
   "cell_type": "markdown",
   "id": "c02ae628",
   "metadata": {},
   "source": [
    "* The main methods main job is to take input the input is split into 2 things, the date which is used to compare dates to find classes and datef which is the formatted version mainly used as a keyword to find the very next table on the website in get_schedule_table() "
   ]
  },
  {
   "cell_type": "code",
   "execution_count": 7,
   "id": "a8e7584e",
   "metadata": {},
   "outputs": [
    {
     "name": "stdout",
     "output_type": "stream",
     "text": [
      "Enter a date and time format-(mm/dd/yyyy hh:mm am/pm): 9/27/2022 11:30am\n",
      "Group Cycling is held in Grp Fitness Rm from 09/27/2022 11:00AM - 09/27/2022 11:50AM\n"
     ]
    },
    {
     "data": {
      "text/plain": [
       "0"
      ]
     },
     "execution_count": 7,
     "metadata": {},
     "output_type": "execute_result"
    }
   ],
   "source": [
    "def main():\n",
    "    # input_date = '9/27/2022 11:30am' <- at time of testing it prints Group Cycling is held in Grp Fitness Rm from \n",
    "    # 09/27/2022 11:00AM - 09/27/2022 11:50AM date parser is kinda weird with relative dates and such and the website\n",
    "    # looks like its changed so i did all of my testing from the florida tech website using my birthday \n",
    "\n",
    "    input_date = input(\"Enter a date and time format-(mm/dd/yyyy hh:mm am/pm): \")\n",
    "    date = dateparser.parse(input_date)\n",
    "    datef = f'{date:%A}'\n",
    "\n",
    "    open_hours = get_opening_hours()\n",
    "    day_table = get_schedule_table(datef)\n",
    "    is_open(date, day_table, open_hours)\n",
    "    return 0\n",
    "\n",
    "\n",
    "main()\n"
   ]
  },
  {
   "cell_type": "code",
   "execution_count": null,
   "id": "86f675fc",
   "metadata": {},
   "outputs": [],
   "source": []
  }
 ],
 "metadata": {
  "kernelspec": {
   "display_name": "Python 3 (ipykernel)",
   "language": "python",
   "name": "python3"
  },
  "language_info": {
   "codemirror_mode": {
    "name": "ipython",
    "version": 3
   },
   "file_extension": ".py",
   "mimetype": "text/x-python",
   "name": "python",
   "nbconvert_exporter": "python",
   "pygments_lexer": "ipython3",
   "version": "3.9.12"
  }
 },
 "nbformat": 4,
 "nbformat_minor": 5
}
