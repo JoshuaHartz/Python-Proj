{
 "cells": [
  {
   "cell_type": "markdown",
   "id": "07539c1a",
   "metadata": {},
   "source": [
    "# CSE2050 Homework 1\n",
    "**Name: Joshua Hartzfeld**  | Topic: Strings"
   ]
  },
  {
   "cell_type": "markdown",
   "id": "3fc8e2e5",
   "metadata": {},
   "source": [
    "### Question 1"
   ]
  },
  {
   "cell_type": "code",
   "execution_count": 75,
   "id": "454fbce8",
   "metadata": {},
   "outputs": [],
   "source": [
    "employees = [\"Willena Shupe\", \"Jolanda Agin\", \"Leta Stacker\",\n",
    "\"Leonora Oliverio\", \"Birgit Stoudt\", \"Aron Valtierra\", \"Vi Buschman\"]\n",
    "\n",
    "salaries2021 = [\"$102,633\", \"$82,012\", \"$129,860\",\n",
    "\"$48,949\", \"$55,208\", \"$95,600\", \"$40,030\"]\n",
    "\n",
    "salaries2022 = [\"$105,711.99\", \"$86,932.72\", \"$133,755.80\",\n",
    "\"$54,822.88\", \"$59,624.64\", \"$100,380.00\", \"$43,632.70\"]\n"
   ]
  },
  {
   "cell_type": "code",
   "execution_count": 76,
   "id": "11894e41",
   "metadata": {},
   "outputs": [
    {
     "name": "stdout",
     "output_type": "stream",
     "text": [
      "Employee              2021 Salary    2022 Salary    % increase     \n",
      "------------------------------------------------------------\n"
     ]
    }
   ],
   "source": [
    "print('{:<22}{:<15}{:<15}{:<15}'.format(\"Employee \",\"2021 Salary \",\"2022 Salary \",\"% increase\"))\n",
    "print(\"-\"*60)"
   ]
  },
  {
   "cell_type": "code",
   "execution_count": 105,
   "id": "b044f1af",
   "metadata": {},
   "outputs": [
    {
     "ename": "ValueError",
     "evalue": "Invalid format specifier",
     "output_type": "error",
     "traceback": [
      "\u001b[1;31m---------------------------------------------------------------------------\u001b[0m",
      "\u001b[1;31mValueError\u001b[0m                                Traceback (most recent call last)",
      "Input \u001b[1;32mIn [105]\u001b[0m, in \u001b[0;36m<cell line: 2>\u001b[1;34m()\u001b[0m\n\u001b[0;32m      6\u001b[0m num_2022 \u001b[38;5;241m=\u001b[39m \u001b[38;5;28mfloat\u001b[39m(num_2022\u001b[38;5;241m.\u001b[39mreplace(\u001b[38;5;124m'\u001b[39m\u001b[38;5;124m,\u001b[39m\u001b[38;5;124m'\u001b[39m, \u001b[38;5;124m'\u001b[39m\u001b[38;5;124m'\u001b[39m))\n\u001b[0;32m      7\u001b[0m p_increase \u001b[38;5;241m=\u001b[39m ((num_2022 \u001b[38;5;241m-\u001b[39m num_2021)\u001b[38;5;241m/\u001b[39mnum_2021)\u001b[38;5;241m*\u001b[39m\u001b[38;5;241m100\u001b[39m\n\u001b[1;32m----> 9\u001b[0m \u001b[38;5;28mprint\u001b[39m(\u001b[38;5;124;43m'\u001b[39;49m\u001b[38;5;132;43;01m{:<25}\u001b[39;49;00m\u001b[38;5;132;43;01m{:>10}\u001b[39;49;00m\u001b[38;5;124;43m{\u001b[39;49m\u001b[38;5;124;43m:>10:>15}\u001b[39;49m\u001b[38;5;124;43m'\u001b[39;49m\u001b[38;5;241;43m.\u001b[39;49m\u001b[43mformat\u001b[49m\u001b[43m(\u001b[49m\u001b[43mname\u001b[49m\u001b[43m,\u001b[49m\u001b[43m \u001b[49m\u001b[43msal_2021\u001b[49m\u001b[43m,\u001b[49m\u001b[43m \u001b[49m\u001b[43msal_2022\u001b[49m\u001b[43m,\u001b[49m\u001b[43m \u001b[49m\u001b[38;5;28;43mround\u001b[39;49m\u001b[43m(\u001b[49m\u001b[43mp_increase\u001b[49m\u001b[43m,\u001b[49m\u001b[38;5;241;43m1\u001b[39;49m\u001b[43m)\u001b[49m\u001b[43m)\u001b[49m)\n",
      "\u001b[1;31mValueError\u001b[0m: Invalid format specifier"
     ]
    }
   ],
   "source": [
    "import itertools\n",
    "for (name, sal_2021, sal_2022) in zip(employees, salaries2021, salaries2022):\n",
    "    num_2021 = sal_2021.strip('$')\n",
    "    num_2022 = sal_2022.strip('$')\n",
    "    num_2021 = float(num_2021.replace(',', ''))\n",
    "    num_2022 = float(num_2022.replace(',', ''))\n",
    "    p_increase = ((num_2022 - num_2021)/num_2021)*100\n",
    "    \n",
    "    print('{:<25}{:>15{:>15}{:>15}'.format(name, sal_2021, sal_2022, round(p_increase,1)))\n",
    "    \n",
    "   "
   ]
  },
  {
   "cell_type": "code",
   "execution_count": null,
   "id": "1bc6f848",
   "metadata": {},
   "outputs": [],
   "source": []
  },
  {
   "cell_type": "code",
   "execution_count": null,
   "id": "e4719cde",
   "metadata": {},
   "outputs": [],
   "source": []
  },
  {
   "cell_type": "code",
   "execution_count": null,
   "id": "e606ade1",
   "metadata": {},
   "outputs": [],
   "source": [
    " int(num)\n",
    "    int (num2)\n",
    "    print('{:<25}{:<15}{:<15}'.format(name, sal_2021, sal_2022,))"
   ]
  }
 ],
 "metadata": {
  "kernelspec": {
   "display_name": "Python 3 (ipykernel)",
   "language": "python",
   "name": "python3"
  },
  "language_info": {
   "codemirror_mode": {
    "name": "ipython",
    "version": 3
   },
   "file_extension": ".py",
   "mimetype": "text/x-python",
   "name": "python",
   "nbconvert_exporter": "python",
   "pygments_lexer": "ipython3",
   "version": "3.9.12"
  }
 },
 "nbformat": 4,
 "nbformat_minor": 5
}
